{
 "cells": [
  {
   "cell_type": "code",
   "execution_count": 1,
   "id": "7f4a84cd",
   "metadata": {},
   "outputs": [],
   "source": [
    "#area of rectangle"
   ]
  },
  {
   "cell_type": "code",
   "execution_count": null,
   "id": "2f1f19cb",
   "metadata": {},
   "outputs": [],
   "source": [
    "# length = int(input(\"enter length of Rectangle \"))\n",
    "# breadth = int(input('enter breadth of rectangle '))\n",
    "# area = length * breadth\n",
    "# print('Area is ', area)"
   ]
  },
  {
   "cell_type": "code",
   "execution_count": null,
   "id": "fb02807c",
   "metadata": {},
   "outputs": [],
   "source": [
    "#area of rectangle"
   ]
  },
  {
   "cell_type": "code",
   "execution_count": null,
   "id": "86d59ec0",
   "metadata": {},
   "outputs": [],
   "source": [
    "#base = float(input('enter base of Tringle '))\n",
    "#height = float(input('enter height of height '))\n",
    "# area = 1/2 * base * height\n",
    "# print(\"Area is \", area)"
   ]
  },
  {
   "cell_type": "code",
   "execution_count": null,
   "id": "ded21902",
   "metadata": {},
   "outputs": [],
   "source": [
    "#area of trapezium"
   ]
  },
  {
   "cell_type": "code",
   "execution_count": null,
   "id": "0584f5fd",
   "metadata": {},
   "outputs": [],
   "source": [
    "# a = float(input(\"enter the value of a \"))\n",
    "# b = float(input(\"enter the value of b \"))\n",
    "# height = float(input(\"enter the height of trapezium \"))\n",
    "# area = 1/2 * (a+b) * height\n",
    "# print(\"Area is \", area)"
   ]
  },
  {
   "cell_type": "code",
   "execution_count": null,
   "id": "7293f9a9",
   "metadata": {},
   "outputs": [],
   "source": [
    "# find the displacement"
   ]
  },
  {
   "cell_type": "code",
   "execution_count": null,
   "id": "3512f14c",
   "metadata": {},
   "outputs": [],
   "source": [
    "# intialVelocity = float(input(\"enter the intial velocity \"))\n",
    "# finalVelocity = float(input(\"enter the final velocity \"))\n",
    "# accelaration = float(input(\"enter the accelartion \"))\n",
    "# Displacement = (finalVelocity*finalVelocity - intialVelocity*intialVelocity)/(2*accelaration)\n",
    "# print(\"displacement is \" , Displacement)"
   ]
  },
  {
   "cell_type": "code",
   "execution_count": null,
   "id": "00966e7f",
   "metadata": {},
   "outputs": [],
   "source": [
    "#Area of a Circle"
   ]
  },
  {
   "cell_type": "code",
   "execution_count": null,
   "id": "fe2c597b",
   "metadata": {},
   "outputs": [],
   "source": [
    "# import math\n",
    "# radius = float(input(\"enter the radius \"))\n",
    "# area = math.pi * radius *radius\n",
    "# print(\"Area is \", area)"
   ]
  },
  {
   "cell_type": "code",
   "execution_count": null,
   "id": "0bd483aa",
   "metadata": {},
   "outputs": [],
   "source": [
    "# converting Kilometers to Miles"
   ]
  },
  {
   "cell_type": "code",
   "execution_count": 3,
   "id": "e0c8b9c6",
   "metadata": {},
   "outputs": [
    {
     "name": "stdout",
     "output_type": "stream",
     "text": [
      "enter the kilometer 2\n",
      "Miles is  1.242742\n"
     ]
    }
   ],
   "source": [
    "# a = float(input(\"enter the kilometer \"))\n",
    "# Miles = 0.621371 * a\n",
    "# print(\"Miles is \", Miles)"
   ]
  },
  {
   "cell_type": "code",
   "execution_count": null,
   "id": "173e7a87",
   "metadata": {},
   "outputs": [],
   "source": [
    "#Total Surface area of cuboid"
   ]
  },
  {
   "cell_type": "code",
   "execution_count": 1,
   "id": "37a19121",
   "metadata": {},
   "outputs": [
    {
     "name": "stdout",
     "output_type": "stream",
     "text": [
      "enter the length of Cuboid2\n",
      "enter the breadth of Cuboid2\n",
      "enter the height of Cuboid2\n",
      "Total Surface area is  24.0\n"
     ]
    }
   ],
   "source": [
    "length = float(input(\"enter the length of Cuboid \"))\n",
    "breadth = float(input('enter the breadth of Cuboid '))\n",
    "height = float(input(\"enter the height of Cuboid \"))\n",
    "tSurfaceArea = 2*(length * breadth + breadth * height + height * length)\n",
    "print(\"Total Surface area is \", tSurfaceArea)"
   ]
  },
  {
   "cell_type": "code",
   "execution_count": 2,
   "id": "1e799173",
   "metadata": {},
   "outputs": [],
   "source": [
    "# qudartic equation"
   ]
  },
  {
   "cell_type": "code",
   "execution_count": 6,
   "id": "e9e64bdb",
   "metadata": {},
   "outputs": [
    {
     "name": "stdout",
     "output_type": "stream",
     "text": [
      "Enter a Value1\n",
      "Enter a Value-4\n",
      "Enter a Value4\n",
      "two roots are 2.0 2.0\n"
     ]
    }
   ],
   "source": [
    "import math\n",
    "a = int(input(\"Enter a Value\"))\n",
    "b = int(input(\"Enter a Value\"))\n",
    "c = int(input(\"Enter a Value\"))\n",
    "root1 = (-b + math.sqrt(b**2 - 4 *a*c))/(2*a)\n",
    "root2 = (-b - math.sqrt(b**2 - 4*a*c))/(2*a)\n",
    "print(\"two roots are\", root1, root2)"
   ]
  },
  {
   "cell_type": "code",
   "execution_count": 1,
   "id": "f3c11340",
   "metadata": {},
   "outputs": [
    {
     "ename": "NameError",
     "evalue": "name 'git' is not defined",
     "output_type": "error",
     "traceback": [
      "\u001b[0;31m---------------------------------------------------------------------------\u001b[0m",
      "\u001b[0;31mNameError\u001b[0m                                 Traceback (most recent call last)",
      "Cell \u001b[0;32mIn[1], line 1\u001b[0m\n\u001b[0;32m----> 1\u001b[0m git \u001b[38;5;241m-\u001b[39m\u001b[38;5;241m-\u001b[39m version\n",
      "\u001b[0;31mNameError\u001b[0m: name 'git' is not defined"
     ]
    }
   ],
   "source": [
    "git -- version"
   ]
  },
  {
   "cell_type": "code",
   "execution_count": null,
   "id": "5016ab6e",
   "metadata": {},
   "outputs": [],
   "source": []
  }
 ],
 "metadata": {
  "kernelspec": {
   "display_name": "Python 3 (ipykernel)",
   "language": "python",
   "name": "python3"
  },
  "language_info": {
   "codemirror_mode": {
    "name": "ipython",
    "version": 3
   },
   "file_extension": ".py",
   "mimetype": "text/x-python",
   "name": "python",
   "nbconvert_exporter": "python",
   "pygments_lexer": "ipython3",
   "version": "3.11.5"
  }
 },
 "nbformat": 4,
 "nbformat_minor": 5
}
